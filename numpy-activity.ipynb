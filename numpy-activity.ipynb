{
 "cells": [
  {
   "cell_type": "markdown",
   "metadata": {},
   "source": [
    "# <center> **Numpy Array Operations**\n",
    "#### <center> By: Johann Sebastian E. Catalla, BSCS-III\n",
    "#### <center> An output for the course Data Science Fundamentals\n",
    "***"
   ]
  },
  {
   "cell_type": "code",
   "execution_count": 92,
   "metadata": {},
   "outputs": [
    {
     "data": {
      "text/plain": [
       "array([ 10,  20,  30,  15,  20,  55,  60,   0, -10,  70, -12])"
      ]
     },
     "execution_count": 92,
     "metadata": {},
     "output_type": "execute_result"
    }
   ],
   "source": [
    "import numpy as np\n",
    "import pandas as pd\n",
    "arr_from_list = np.array([10, 20, 30, 15, 20, 55, 60, 0, -10, 70, -12])\n",
    "arr_from_list"
   ]
  },
  {
   "cell_type": "markdown",
   "metadata": {},
   "source": [
    "### Slicing Array"
   ]
  },
  {
   "cell_type": "code",
   "execution_count": 93,
   "metadata": {},
   "outputs": [
    {
     "data": {
      "text/plain": [
       "array([20, 30, 15])"
      ]
     },
     "execution_count": 93,
     "metadata": {},
     "output_type": "execute_result"
    }
   ],
   "source": [
    "sliced_array = arr_from_list[1:4]\n",
    "sliced_array"
   ]
  },
  {
   "cell_type": "markdown",
   "metadata": {},
   "source": [
    "### Generating array using different numpy functions"
   ]
  },
  {
   "cell_type": "code",
   "execution_count": 94,
   "metadata": {},
   "outputs": [],
   "source": [
    "# Array of zeroes\n",
    "zeros_array = np.zeros((3, 3))\n",
    "\n",
    "# Array of homogeneous values\n",
    "ones_array = np.ones((2, 4))\n",
    "\n",
    "# Creating matrix\n",
    "identity_array = np.eye(4)\n",
    "\n",
    "# Creating array from range\n",
    "range_array = np.arange(10, 20, 2)\n",
    "\n",
    "# Evenly-spaced arrray\n",
    "linspace_array = np.linspace(0, 100, 100)\n",
    "\n",
    "# Random Array\n",
    "random_array = np.random.rand(3, 900, 50)\n"
   ]
  },
  {
   "cell_type": "code",
   "execution_count": 95,
   "metadata": {},
   "outputs": [
    {
     "data": {
      "text/plain": [
       "array([[0., 0., 0.],\n",
       "       [0., 0., 0.],\n",
       "       [0., 0., 0.]])"
      ]
     },
     "execution_count": 95,
     "metadata": {},
     "output_type": "execute_result"
    }
   ],
   "source": [
    "zeros_array"
   ]
  },
  {
   "cell_type": "code",
   "execution_count": 96,
   "metadata": {},
   "outputs": [
    {
     "data": {
      "text/plain": [
       "array([[1., 1., 1., 1.],\n",
       "       [1., 1., 1., 1.]])"
      ]
     },
     "execution_count": 96,
     "metadata": {},
     "output_type": "execute_result"
    }
   ],
   "source": [
    "ones_array"
   ]
  },
  {
   "cell_type": "code",
   "execution_count": 97,
   "metadata": {},
   "outputs": [
    {
     "data": {
      "text/plain": [
       "array([[1., 0., 0., 0.],\n",
       "       [0., 1., 0., 0.],\n",
       "       [0., 0., 1., 0.],\n",
       "       [0., 0., 0., 1.]])"
      ]
     },
     "execution_count": 97,
     "metadata": {},
     "output_type": "execute_result"
    }
   ],
   "source": [
    "identity_array"
   ]
  },
  {
   "cell_type": "code",
   "execution_count": 98,
   "metadata": {},
   "outputs": [
    {
     "data": {
      "text/plain": [
       "array([10, 12, 14, 16, 18])"
      ]
     },
     "execution_count": 98,
     "metadata": {},
     "output_type": "execute_result"
    }
   ],
   "source": [
    "range_array"
   ]
  },
  {
   "cell_type": "code",
   "execution_count": 99,
   "metadata": {},
   "outputs": [
    {
     "data": {
      "text/plain": [
       "array([  0.        ,   1.01010101,   2.02020202,   3.03030303,\n",
       "         4.04040404,   5.05050505,   6.06060606,   7.07070707,\n",
       "         8.08080808,   9.09090909,  10.1010101 ,  11.11111111,\n",
       "        12.12121212,  13.13131313,  14.14141414,  15.15151515,\n",
       "        16.16161616,  17.17171717,  18.18181818,  19.19191919,\n",
       "        20.2020202 ,  21.21212121,  22.22222222,  23.23232323,\n",
       "        24.24242424,  25.25252525,  26.26262626,  27.27272727,\n",
       "        28.28282828,  29.29292929,  30.3030303 ,  31.31313131,\n",
       "        32.32323232,  33.33333333,  34.34343434,  35.35353535,\n",
       "        36.36363636,  37.37373737,  38.38383838,  39.39393939,\n",
       "        40.4040404 ,  41.41414141,  42.42424242,  43.43434343,\n",
       "        44.44444444,  45.45454545,  46.46464646,  47.47474747,\n",
       "        48.48484848,  49.49494949,  50.50505051,  51.51515152,\n",
       "        52.52525253,  53.53535354,  54.54545455,  55.55555556,\n",
       "        56.56565657,  57.57575758,  58.58585859,  59.5959596 ,\n",
       "        60.60606061,  61.61616162,  62.62626263,  63.63636364,\n",
       "        64.64646465,  65.65656566,  66.66666667,  67.67676768,\n",
       "        68.68686869,  69.6969697 ,  70.70707071,  71.71717172,\n",
       "        72.72727273,  73.73737374,  74.74747475,  75.75757576,\n",
       "        76.76767677,  77.77777778,  78.78787879,  79.7979798 ,\n",
       "        80.80808081,  81.81818182,  82.82828283,  83.83838384,\n",
       "        84.84848485,  85.85858586,  86.86868687,  87.87878788,\n",
       "        88.88888889,  89.8989899 ,  90.90909091,  91.91919192,\n",
       "        92.92929293,  93.93939394,  94.94949495,  95.95959596,\n",
       "        96.96969697,  97.97979798,  98.98989899, 100.        ])"
      ]
     },
     "execution_count": 99,
     "metadata": {},
     "output_type": "execute_result"
    }
   ],
   "source": [
    "linspace_array"
   ]
  },
  {
   "cell_type": "code",
   "execution_count": 100,
   "metadata": {},
   "outputs": [
    {
     "data": {
      "text/plain": [
       "array([[[0.55300023, 0.95892817, 0.4098046 , ..., 0.77031938,\n",
       "         0.69304293, 0.37460375],\n",
       "        [0.12653099, 0.59493602, 0.77685985, ..., 0.62939041,\n",
       "         0.92210709, 0.337875  ],\n",
       "        [0.05125112, 0.46715559, 0.93754647, ..., 0.79565578,\n",
       "         0.88836787, 0.36809613],\n",
       "        ...,\n",
       "        [0.7005413 , 0.08933286, 0.7774864 , ..., 0.05956999,\n",
       "         0.0966079 , 0.52303651],\n",
       "        [0.24476128, 0.72104897, 0.22824685, ..., 0.43575606,\n",
       "         0.7677891 , 0.93990868],\n",
       "        [0.40315297, 0.73813898, 0.04728745, ..., 0.80615597,\n",
       "         0.98484109, 0.27726846]],\n",
       "\n",
       "       [[0.50632646, 0.37938985, 0.88103216, ..., 0.14780678,\n",
       "         0.31625244, 0.44758307],\n",
       "        [0.29915104, 0.52279338, 0.95646194, ..., 0.17181485,\n",
       "         0.72038657, 0.42614494],\n",
       "        [0.37466106, 0.19714493, 0.72501396, ..., 0.20930514,\n",
       "         0.27282198, 0.16639275],\n",
       "        ...,\n",
       "        [0.70150241, 0.81071275, 0.26675982, ..., 0.42253181,\n",
       "         0.29483989, 0.06368046],\n",
       "        [0.7695579 , 0.88341174, 0.02943326, ..., 0.84412981,\n",
       "         0.95379863, 0.36707919],\n",
       "        [0.10713377, 0.271201  , 0.42977676, ..., 0.20657022,\n",
       "         0.10476789, 0.29569743]],\n",
       "\n",
       "       [[0.36448969, 0.0726864 , 0.22239349, ..., 0.52563374,\n",
       "         0.7497808 , 0.59844844],\n",
       "        [0.88642623, 0.90756834, 0.07196751, ..., 0.20168103,\n",
       "         0.36261022, 0.2515562 ],\n",
       "        [0.61963354, 0.95539996, 0.78968676, ..., 0.84333142,\n",
       "         0.72561519, 0.57628941],\n",
       "        ...,\n",
       "        [0.87337925, 0.84734569, 0.44720934, ..., 0.60434347,\n",
       "         0.43627797, 0.20167914],\n",
       "        [0.37602534, 0.39489956, 0.74285004, ..., 0.54220252,\n",
       "         0.55572284, 0.80596444],\n",
       "        [0.80926246, 0.87281942, 0.08277832, ..., 0.94737731,\n",
       "         0.81797553, 0.92987156]]])"
      ]
     },
     "execution_count": 100,
     "metadata": {},
     "output_type": "execute_result"
    }
   ],
   "source": [
    "random_array"
   ]
  },
  {
   "cell_type": "markdown",
   "metadata": {},
   "source": [
    "### Numpy Array Operations"
   ]
  },
  {
   "cell_type": "code",
   "execution_count": 101,
   "metadata": {},
   "outputs": [
    {
     "data": {
      "text/plain": [
       "array([[10],\n",
       "       [12],\n",
       "       [14],\n",
       "       [16],\n",
       "       [18]])"
      ]
     },
     "execution_count": 101,
     "metadata": {},
     "output_type": "execute_result"
    }
   ],
   "source": [
    "# Reshaping array\n",
    "reshaped_array = range_array.reshape((5, 1))\n",
    "reshaped_array\n"
   ]
  },
  {
   "cell_type": "code",
   "execution_count": 102,
   "metadata": {},
   "outputs": [
    {
     "data": {
      "text/plain": [
       "array([20, 30, 15])"
      ]
     },
     "execution_count": 102,
     "metadata": {},
     "output_type": "execute_result"
    }
   ],
   "source": [
    "# Indexing and Slicing\n",
    "sliced_array = arr_from_list[1:4]\n",
    "sliced_array\n"
   ]
  },
  {
   "cell_type": "code",
   "execution_count": 103,
   "metadata": {},
   "outputs": [
    {
     "data": {
      "text/plain": [
       "array([ 10,  20,  30,  15,  20,  55,  60,   0, -10,  70, -12,  10,  12,\n",
       "        14,  16,  18])"
      ]
     },
     "execution_count": 103,
     "metadata": {},
     "output_type": "execute_result"
    }
   ],
   "source": [
    "# Concatenation\n",
    "concatenated_array = np.concatenate((arr_from_list, range_array))\n",
    "concatenated_array"
   ]
  },
  {
   "cell_type": "code",
   "execution_count": 104,
   "metadata": {},
   "outputs": [
    {
     "data": {
      "text/plain": [
       "array([20, 32, 44, 31, 38])"
      ]
     },
     "execution_count": 104,
     "metadata": {},
     "output_type": "execute_result"
    }
   ],
   "source": [
    "# Addition Operation\n",
    "sum_array = arr_from_list[:5] + range_array[:5]\n",
    "sum_array"
   ]
  },
  {
   "cell_type": "code",
   "execution_count": 105,
   "metadata": {},
   "outputs": [
    {
     "data": {
      "text/plain": [
       "array([ 20,  40,  60,  30,  40, 110, 120,   0, -20, 140, -24])"
      ]
     },
     "execution_count": 105,
     "metadata": {},
     "output_type": "execute_result"
    }
   ],
   "source": [
    "# Multiplication Operation\n",
    "product_array = arr_from_list * 2\n",
    "product_array"
   ]
  },
  {
   "cell_type": "code",
   "execution_count": 106,
   "metadata": {},
   "outputs": [
    {
     "data": {
      "text/plain": [
       "array([ 10,  40,  90,  60, 100,  55, 120,   0, -40, 350, -12])"
      ]
     },
     "execution_count": 106,
     "metadata": {},
     "output_type": "execute_result"
    }
   ],
   "source": [
    "# Element-wise Multiplication\n",
    "elementwise_multiplication = arr_from_list * np.tile(np.array([1, 2, 3, 4, 5]), len(arr_from_list)//5 + 1)[:len(arr_from_list)]\n",
    "elementwise_multiplication\n"
   ]
  },
  {
   "cell_type": "markdown",
   "metadata": {},
   "source": [
    "### Reading a dataset and Converting it into a Numpy Array"
   ]
  },
  {
   "cell_type": "code",
   "execution_count": 107,
   "metadata": {},
   "outputs": [
    {
     "data": {
      "text/html": [
       "<div>\n",
       "<style scoped>\n",
       "    .dataframe tbody tr th:only-of-type {\n",
       "        vertical-align: middle;\n",
       "    }\n",
       "\n",
       "    .dataframe tbody tr th {\n",
       "        vertical-align: top;\n",
       "    }\n",
       "\n",
       "    .dataframe thead th {\n",
       "        text-align: right;\n",
       "    }\n",
       "</style>\n",
       "<table border=\"1\" class=\"dataframe\">\n",
       "  <thead>\n",
       "    <tr style=\"text-align: right;\">\n",
       "      <th></th>\n",
       "      <th>Rank</th>\n",
       "      <th>Name</th>\n",
       "      <th>Platform</th>\n",
       "      <th>Year</th>\n",
       "      <th>Genre</th>\n",
       "      <th>Publisher</th>\n",
       "      <th>NA_Sales</th>\n",
       "      <th>EU_Sales</th>\n",
       "      <th>JP_Sales</th>\n",
       "      <th>Other_Sales</th>\n",
       "      <th>Global_Sales</th>\n",
       "    </tr>\n",
       "  </thead>\n",
       "  <tbody>\n",
       "    <tr>\n",
       "      <th>0</th>\n",
       "      <td>1</td>\n",
       "      <td>Wii Sports</td>\n",
       "      <td>Wii</td>\n",
       "      <td>2006.0</td>\n",
       "      <td>Sports</td>\n",
       "      <td>Nintendo</td>\n",
       "      <td>41.49</td>\n",
       "      <td>29.02</td>\n",
       "      <td>3.77</td>\n",
       "      <td>8.46</td>\n",
       "      <td>82.74</td>\n",
       "    </tr>\n",
       "    <tr>\n",
       "      <th>1</th>\n",
       "      <td>2</td>\n",
       "      <td>Super Mario Bros.</td>\n",
       "      <td>NES</td>\n",
       "      <td>1985.0</td>\n",
       "      <td>Platform</td>\n",
       "      <td>Nintendo</td>\n",
       "      <td>29.08</td>\n",
       "      <td>3.58</td>\n",
       "      <td>6.81</td>\n",
       "      <td>0.77</td>\n",
       "      <td>40.24</td>\n",
       "    </tr>\n",
       "    <tr>\n",
       "      <th>2</th>\n",
       "      <td>3</td>\n",
       "      <td>Mario Kart Wii</td>\n",
       "      <td>Wii</td>\n",
       "      <td>2008.0</td>\n",
       "      <td>Racing</td>\n",
       "      <td>Nintendo</td>\n",
       "      <td>15.85</td>\n",
       "      <td>12.88</td>\n",
       "      <td>3.79</td>\n",
       "      <td>3.31</td>\n",
       "      <td>35.82</td>\n",
       "    </tr>\n",
       "    <tr>\n",
       "      <th>3</th>\n",
       "      <td>4</td>\n",
       "      <td>Wii Sports Resort</td>\n",
       "      <td>Wii</td>\n",
       "      <td>2009.0</td>\n",
       "      <td>Sports</td>\n",
       "      <td>Nintendo</td>\n",
       "      <td>15.75</td>\n",
       "      <td>11.01</td>\n",
       "      <td>3.28</td>\n",
       "      <td>2.96</td>\n",
       "      <td>33.00</td>\n",
       "    </tr>\n",
       "    <tr>\n",
       "      <th>4</th>\n",
       "      <td>5</td>\n",
       "      <td>Pokemon Red/Pokemon Blue</td>\n",
       "      <td>GB</td>\n",
       "      <td>1996.0</td>\n",
       "      <td>Role-Playing</td>\n",
       "      <td>Nintendo</td>\n",
       "      <td>11.27</td>\n",
       "      <td>8.89</td>\n",
       "      <td>10.22</td>\n",
       "      <td>1.00</td>\n",
       "      <td>31.37</td>\n",
       "    </tr>\n",
       "    <tr>\n",
       "      <th>...</th>\n",
       "      <td>...</td>\n",
       "      <td>...</td>\n",
       "      <td>...</td>\n",
       "      <td>...</td>\n",
       "      <td>...</td>\n",
       "      <td>...</td>\n",
       "      <td>...</td>\n",
       "      <td>...</td>\n",
       "      <td>...</td>\n",
       "      <td>...</td>\n",
       "      <td>...</td>\n",
       "    </tr>\n",
       "    <tr>\n",
       "      <th>195</th>\n",
       "      <td>196</td>\n",
       "      <td>Guitar Hero II</td>\n",
       "      <td>PS2</td>\n",
       "      <td>2006.0</td>\n",
       "      <td>Misc</td>\n",
       "      <td>RedOctane</td>\n",
       "      <td>3.81</td>\n",
       "      <td>0.63</td>\n",
       "      <td>0.00</td>\n",
       "      <td>0.68</td>\n",
       "      <td>5.12</td>\n",
       "    </tr>\n",
       "    <tr>\n",
       "      <th>196</th>\n",
       "      <td>197</td>\n",
       "      <td>Resident Evil 5</td>\n",
       "      <td>PS3</td>\n",
       "      <td>2009.0</td>\n",
       "      <td>Action</td>\n",
       "      <td>Capcom</td>\n",
       "      <td>1.96</td>\n",
       "      <td>1.43</td>\n",
       "      <td>1.08</td>\n",
       "      <td>0.65</td>\n",
       "      <td>5.11</td>\n",
       "    </tr>\n",
       "    <tr>\n",
       "      <th>197</th>\n",
       "      <td>198</td>\n",
       "      <td>Grand Theft Auto V</td>\n",
       "      <td>XOne</td>\n",
       "      <td>2014.0</td>\n",
       "      <td>Action</td>\n",
       "      <td>Take-Two Interactive</td>\n",
       "      <td>2.66</td>\n",
       "      <td>2.01</td>\n",
       "      <td>0.00</td>\n",
       "      <td>0.41</td>\n",
       "      <td>5.08</td>\n",
       "    </tr>\n",
       "    <tr>\n",
       "      <th>198</th>\n",
       "      <td>199</td>\n",
       "      <td>Grand Theft Auto: Vice City Stories</td>\n",
       "      <td>PSP</td>\n",
       "      <td>2006.0</td>\n",
       "      <td>Action</td>\n",
       "      <td>Take-Two Interactive</td>\n",
       "      <td>1.70</td>\n",
       "      <td>2.02</td>\n",
       "      <td>0.16</td>\n",
       "      <td>1.21</td>\n",
       "      <td>5.08</td>\n",
       "    </tr>\n",
       "    <tr>\n",
       "      <th>199</th>\n",
       "      <td>200</td>\n",
       "      <td>FIFA Soccer 11</td>\n",
       "      <td>PS3</td>\n",
       "      <td>2010.0</td>\n",
       "      <td>Sports</td>\n",
       "      <td>Electronic Arts</td>\n",
       "      <td>0.60</td>\n",
       "      <td>3.29</td>\n",
       "      <td>0.06</td>\n",
       "      <td>1.13</td>\n",
       "      <td>5.08</td>\n",
       "    </tr>\n",
       "  </tbody>\n",
       "</table>\n",
       "<p>200 rows × 11 columns</p>\n",
       "</div>"
      ],
      "text/plain": [
       "     Rank                                 Name Platform    Year         Genre  \\\n",
       "0       1                           Wii Sports      Wii  2006.0        Sports   \n",
       "1       2                    Super Mario Bros.      NES  1985.0      Platform   \n",
       "2       3                       Mario Kart Wii      Wii  2008.0        Racing   \n",
       "3       4                    Wii Sports Resort      Wii  2009.0        Sports   \n",
       "4       5             Pokemon Red/Pokemon Blue       GB  1996.0  Role-Playing   \n",
       "..    ...                                  ...      ...     ...           ...   \n",
       "195   196                       Guitar Hero II      PS2  2006.0          Misc   \n",
       "196   197                      Resident Evil 5      PS3  2009.0        Action   \n",
       "197   198                   Grand Theft Auto V     XOne  2014.0        Action   \n",
       "198   199  Grand Theft Auto: Vice City Stories      PSP  2006.0        Action   \n",
       "199   200                       FIFA Soccer 11      PS3  2010.0        Sports   \n",
       "\n",
       "                Publisher  NA_Sales  EU_Sales  JP_Sales  Other_Sales  \\\n",
       "0                Nintendo     41.49     29.02      3.77         8.46   \n",
       "1                Nintendo     29.08      3.58      6.81         0.77   \n",
       "2                Nintendo     15.85     12.88      3.79         3.31   \n",
       "3                Nintendo     15.75     11.01      3.28         2.96   \n",
       "4                Nintendo     11.27      8.89     10.22         1.00   \n",
       "..                    ...       ...       ...       ...          ...   \n",
       "195             RedOctane      3.81      0.63      0.00         0.68   \n",
       "196                Capcom      1.96      1.43      1.08         0.65   \n",
       "197  Take-Two Interactive      2.66      2.01      0.00         0.41   \n",
       "198  Take-Two Interactive      1.70      2.02      0.16         1.21   \n",
       "199       Electronic Arts      0.60      3.29      0.06         1.13   \n",
       "\n",
       "     Global_Sales  \n",
       "0           82.74  \n",
       "1           40.24  \n",
       "2           35.82  \n",
       "3           33.00  \n",
       "4           31.37  \n",
       "..            ...  \n",
       "195          5.12  \n",
       "196          5.11  \n",
       "197          5.08  \n",
       "198          5.08  \n",
       "199          5.08  \n",
       "\n",
       "[200 rows x 11 columns]"
      ]
     },
     "execution_count": 107,
     "metadata": {},
     "output_type": "execute_result"
    }
   ],
   "source": [
    "dataset = pd.read_csv('vgsales.csv')\n",
    "dataset = dataset.head(200)\n",
    "dataset"
   ]
  },
  {
   "cell_type": "code",
   "execution_count": 108,
   "metadata": {},
   "outputs": [
    {
     "data": {
      "text/plain": [
       "array([41.49, 29.08, 15.85, 15.75, 11.27, 23.2 , 11.38, 14.03, 14.59,\n",
       "       26.93,  9.07,  9.81,  9.  ,  8.94,  9.09, 14.97,  7.01,  9.43,\n",
       "       12.78,  4.75,  6.42, 10.83,  9.54,  9.63,  8.41,  6.06,  5.57,\n",
       "        3.44,  6.85,  9.03,  5.89,  9.67,  5.17,  5.77,  4.99,  8.25,\n",
       "        8.52,  5.54,  6.99,  6.75,  5.98,  2.55,  4.74,  7.97,  3.8 ,\n",
       "        4.4 ,  6.91,  3.01,  6.16,  4.23,  6.16,  6.76,  4.02,  4.89,\n",
       "        2.96,  4.99,  4.76,  5.99,  4.34,  5.08,  6.05,  6.72,  7.03,\n",
       "        5.55,  3.66,  6.63,  3.01,  4.09,  5.84,  3.88,  5.91,  4.36,\n",
       "        5.58,  2.01,  4.46,  5.03,  3.54,  1.11,  1.79,  6.82,  3.81,\n",
       "        2.91,  1.06,  0.98,  5.8 ,  2.58,  2.91,  2.28,  2.82,  7.28,\n",
       "        2.9 ,  3.66,  2.93,  2.8 ,  4.1 ,  3.78,  5.39,  3.24,  4.79,\n",
       "        4.46,  3.83,  4.52,  3.51,  2.85,  3.27,  3.27,  3.68,  4.41,\n",
       "        3.13,  2.47,  4.12,  4.14,  0.78,  2.71,  2.93,  2.77,  3.23,\n",
       "        3.5 ,  4.15,  3.27,  3.1 ,  0.84,  1.67,  2.79,  0.79,  3.25,\n",
       "        2.55,  3.74,  2.64,  4.98,  2.57,  3.64,  2.55,  4.34,  3.7 ,\n",
       "        4.01,  2.47,  0.07,  3.11,  3.92,  4.05,  3.54,  2.45,  4.47,\n",
       "        2.63,  3.18,  2.41,  1.88,  2.8 ,  0.66,  3.66,  1.88,  2.26,\n",
       "        3.13,  2.49,  2.97,  2.54,  2.95,  3.28,  2.7 ,  2.99,  0.47,\n",
       "        3.14,  2.62,  3.21,  3.18,  2.72,  2.07,  1.97,  1.74,  2.18,\n",
       "        3.02,  3.13,  1.62,  1.92,  3.33,  3.1 ,  1.22,  2.3 ,  4.26,\n",
       "        0.65,  2.43,  2.93,  2.32,  2.49,  1.08,  1.9 ,  2.1 ,  0.96,\n",
       "        1.64,  1.98,  2.71,  3.59,  3.21,  3.22,  3.81,  1.96,  2.66,\n",
       "        1.7 ,  0.6 ])"
      ]
     },
     "execution_count": 108,
     "metadata": {},
     "output_type": "execute_result"
    }
   ],
   "source": [
    "# sales from north america\n",
    "na_sales = dataset['NA_Sales'].to_numpy()\n",
    "na_sales"
   ]
  },
  {
   "cell_type": "code",
   "execution_count": 109,
   "metadata": {},
   "outputs": [
    {
     "data": {
      "text/plain": [
       "0      82.74\n",
       "1      40.24\n",
       "2      35.83\n",
       "3      33.00\n",
       "4      31.38\n",
       "       ...  \n",
       "195     5.12\n",
       "196     5.12\n",
       "197     5.08\n",
       "198     5.09\n",
       "199     5.08\n",
       "Length: 200, dtype: float64"
      ]
     },
     "execution_count": 109,
     "metadata": {},
     "output_type": "execute_result"
    }
   ],
   "source": [
    "# Adding sales from all regions\n",
    "total_game_sales = dataset['NA_Sales'] + dataset['EU_Sales'] + dataset['JP_Sales'] + dataset['Other_Sales']\n",
    "total_game_sales.to_numpy()\n",
    "total_game_sales"
   ]
  },
  {
   "cell_type": "markdown",
   "metadata": {},
   "source": [
    "### Applying statistical functions"
   ]
  },
  {
   "cell_type": "code",
   "execution_count": 110,
   "metadata": {},
   "outputs": [
    {
     "data": {
      "text/plain": [
       "10.291100000000002"
      ]
     },
     "execution_count": 110,
     "metadata": {},
     "output_type": "execute_result"
    }
   ],
   "source": [
    "# Mean of total sales\n",
    "mean_value = np.mean(total_game_sales, axis=0)\n",
    "mean_value\n"
   ]
  },
  {
   "cell_type": "code",
   "execution_count": 111,
   "metadata": {},
   "outputs": [
    {
     "data": {
      "text/plain": [
       "7.33"
      ]
     },
     "execution_count": 111,
     "metadata": {},
     "output_type": "execute_result"
    }
   ],
   "source": [
    "# Median of total sales\n",
    "median_value = np.median(total_game_sales, axis=0)\n",
    "median_value"
   ]
  },
  {
   "cell_type": "code",
   "execution_count": 112,
   "metadata": {},
   "outputs": [
    {
     "data": {
      "text/plain": [
       "8.237470958370658"
      ]
     },
     "execution_count": 112,
     "metadata": {},
     "output_type": "execute_result"
    }
   ],
   "source": [
    "# Standard Deviation of total sales\n",
    "std_dev = np.std(total_game_sales, axis=0)\n",
    "std_dev\n"
   ]
  },
  {
   "cell_type": "code",
   "execution_count": 113,
   "metadata": {},
   "outputs": [
    {
     "data": {
      "text/plain": [
       "67.85592779000001"
      ]
     },
     "execution_count": 113,
     "metadata": {},
     "output_type": "execute_result"
    }
   ],
   "source": [
    "# Variance of total sales\n",
    "variance = np.var(total_game_sales, axis=0)\n",
    "variance"
   ]
  },
  {
   "cell_type": "code",
   "execution_count": 114,
   "metadata": {},
   "outputs": [
    {
     "data": {
      "text/plain": [
       "82.74000000000001"
      ]
     },
     "execution_count": 114,
     "metadata": {},
     "output_type": "execute_result"
    }
   ],
   "source": [
    "# Maximum value of total sales\n",
    "max_value = np.max(total_game_sales, axis=0)\n",
    "max_value"
   ]
  },
  {
   "cell_type": "code",
   "execution_count": 115,
   "metadata": {},
   "outputs": [
    {
     "data": {
      "text/plain": [
       "5.08"
      ]
     },
     "execution_count": 115,
     "metadata": {},
     "output_type": "execute_result"
    }
   ],
   "source": [
    "#Minimum value of total sales\n",
    "min_value = np.min(total_game_sales, axis=0)\n",
    "min_value"
   ]
  },
  {
   "cell_type": "code",
   "execution_count": 116,
   "metadata": {},
   "outputs": [
    {
     "data": {
      "text/plain": [
       "2058.2200000000003"
      ]
     },
     "execution_count": 116,
     "metadata": {},
     "output_type": "execute_result"
    }
   ],
   "source": [
    "# Sum of total sales\n",
    "sum_values = np.sum(total_game_sales, axis=0)\n",
    "sum_values\n"
   ]
  },
  {
   "cell_type": "code",
   "execution_count": 117,
   "metadata": {},
   "outputs": [
    {
     "data": {
      "text/plain": [
       "0        82.74\n",
       "1       122.98\n",
       "2       158.81\n",
       "3       191.81\n",
       "4       223.19\n",
       "        ...   \n",
       "195    2037.85\n",
       "196    2042.97\n",
       "197    2048.05\n",
       "198    2053.14\n",
       "199    2058.22\n",
       "Length: 200, dtype: float64"
      ]
     },
     "execution_count": 117,
     "metadata": {},
     "output_type": "execute_result"
    }
   ],
   "source": [
    "# Cumulative sum of total sales\n",
    "cumsum_values = np.cumsum(total_game_sales, axis=0)\n",
    "cumsum_values"
   ]
  }
 ],
 "metadata": {
  "kernelspec": {
   "display_name": "Python 3",
   "language": "python",
   "name": "python3"
  },
  "language_info": {
   "codemirror_mode": {
    "name": "ipython",
    "version": 3
   },
   "file_extension": ".py",
   "mimetype": "text/x-python",
   "name": "python",
   "nbconvert_exporter": "python",
   "pygments_lexer": "ipython3",
   "version": "3.11.5"
  }
 },
 "nbformat": 4,
 "nbformat_minor": 2
}
